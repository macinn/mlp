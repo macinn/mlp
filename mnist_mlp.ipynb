{
 "cells": [
  {
   "cell_type": "code",
   "execution_count": 1,
   "id": "52ea1354",
   "metadata": {},
   "outputs": [],
   "source": [
    "import numpy as np\n",
    "from tensorflow.keras.datasets import mnist\n",
    "from core.mlp import MLP\n",
    "from core.activations import Fun\n",
    "from core.losses import LossFun\n"
   ]
  },
  {
   "cell_type": "code",
   "execution_count": 2,
   "id": "5c2e8e21",
   "metadata": {},
   "outputs": [],
   "source": [
    "# Load data\n",
    "(x_train, y_train), (x_test, y_test) = mnist.load_data()\n",
    "\n",
    "# Preprocess: flatten and normalize to [0,1]\n",
    "x_train = x_train.reshape(-1, 28*28).astype(np.float32) / 255.0\n",
    "x_test = x_test.reshape(-1, 28*28).astype(np.float32) / 255.0\n",
    "\n",
    "# One-hot encode labels\n",
    "def to_one_hot(y, num_classes=10):\n",
    "    oh = np.zeros((y.shape[0], num_classes), dtype=np.float32)\n",
    "    oh[np.arange(y.shape[0]), y] = 1.0\n",
    "    return oh\n",
    "\n",
    "y_train_oh = to_one_hot(y_train)\n",
    "y_test_oh = to_one_hot(y_test)\n",
    "\n",
    "# Validation split\n",
    "X_train, X_val = x_train[:-10000], x_train[-10000:]\n",
    "Y_train, Y_val = y_train_oh[:-10000], y_train_oh[-10000:]\n"
   ]
  },
  {
   "cell_type": "code",
   "execution_count": 14,
   "id": "7f2fc22f",
   "metadata": {},
   "outputs": [
    {
     "name": "stdout",
     "output_type": "stream",
     "text": [
      "Epoka 50/500, błąd treningowy: 0.870828, walidacyjny: 0.815345\n",
      "Epoka 100/500, błąd treningowy: 0.524446, walidacyjny: 0.471084\n",
      "Epoka 150/500, błąd treningowy: 0.354372, walidacyjny: 0.313934\n",
      "Epoka 200/500, błąd treningowy: 0.276871, walidacyjny: 0.256914\n",
      "Epoka 250/500, błąd treningowy: 0.240883, walidacyjny: 0.226158\n",
      "Epoka 300/500, błąd treningowy: 0.216818, walidacyjny: 0.206049\n",
      "Epoka 350/500, błąd treningowy: 0.199493, walidacyjny: 0.190628\n",
      "Epoka 400/500, błąd treningowy: 0.179904, walidacyjny: 0.175244\n",
      "Epoka 450/500, błąd treningowy: 0.164802, walidacyjny: 0.163517\n",
      "Epoka 500/500, błąd treningowy: 0.151956, walidacyjny: 0.153894\n"
     ]
    }
   ],
   "source": [
    "# Define and train MLP\n",
    "\n",
    "np.random.seed(42)\n",
    "\n",
    "layer_sizes = [784, 256, 128, 64, 32, 10]\n",
    "activations = [Fun.ReLU, Fun.ReLU, Fun.ReLU, Fun.ReLU, Fun.Softmax]\n",
    "mlp = MLP(layer_sizes, activations, LossFun.CrossEntropy)\n",
    "train_loss, val_loss, weight_hist = mlp.train(\n",
    "    X_train, Y_train, X_val, Y_val, epochs=500, learning_rate=0.1, print_loss=True\n",
    ")"
   ]
  },
  {
   "cell_type": "code",
   "execution_count": 15,
   "id": "1012eeae",
   "metadata": {},
   "outputs": [
    {
     "name": "stdout",
     "output_type": "stream",
     "text": [
      "Test accuracy: 0.9526\n"
     ]
    }
   ],
   "source": [
    "y_pred_test = mlp.predict(x_test)\n",
    "test_acc = (np.argmax(y_pred_test, axis=1) == y_test).mean()\n",
    "print(f'Test accuracy: {test_acc:.4f}')"
   ]
  },
  {
   "cell_type": "code",
   "execution_count": 16,
   "id": "89bda6b1",
   "metadata": {},
   "outputs": [],
   "source": [
    "from datetime import datetime\n",
    "import os\n",
    "\n",
    "SAVE_DIR = \"saves\"\n",
    "INFO_FILE = \"info.txt\"\n",
    "save_name = f\"mlp_save_{datetime.now().strftime('%Y%m%d_%H%M%S')}.pkl\"\n",
    "\n",
    "with open(os.path.join(SAVE_DIR, INFO_FILE), \"a\") as f:\n",
    "    f.write(f\"Test accuracy: {test_acc:.4f}\\t{save_name}\\t{layer_sizes}\\t{activations}\\n\")\n",
    "\n",
    "mlp.save(os.path.join(SAVE_DIR, save_name))"
   ]
  },
  {
   "cell_type": "code",
   "execution_count": 17,
   "id": "a259982c",
   "metadata": {},
   "outputs": [
    {
     "name": "stdout",
     "output_type": "stream",
     "text": [
      "Reloaded test accuracy: 0.9526\n"
     ]
    }
   ],
   "source": [
    "# Load model back and re-evaluate\n",
    "from core.mlp import MLP\n",
    "mlp2 = MLP.load(os.path.join(SAVE_DIR, save_name))\n",
    "y_pred_test2 = mlp2.predict(x_test)\n",
    "test_acc2 = (np.argmax(y_pred_test2, axis=1) == y_test).mean()\n",
    "print(f'Reloaded test accuracy: {test_acc2:.4f}')\n"
   ]
  },
  {
   "cell_type": "code",
   "execution_count": 7,
   "id": "740a3832",
   "metadata": {},
   "outputs": [
    {
     "data": {
      "image/png": "[encoded data removed]",
      "text/plain": [
       "<Figure size 640x480 with 1 Axes>"
      ]
     },
     "metadata": {},
     "output_type": "display_data"
    }
   ],
   "source": [
    "# Plot losses\n",
    "import matplotlib.pyplot as plt\n",
    "plt.plot(train_loss, label='train')\n",
    "plt.plot(val_loss, label='val')\n",
    "plt.xlabel('Epoch')\n",
    "plt.ylabel('Loss')\n",
    "plt.legend()\n",
    "plt.show()\n"
   ]
  }
 ],
 "metadata": {
  "kernelspec": {
   "display_name": "Python 3",
   "language": "python",
   "name": "python3"
  },
  "language_info": {
   "codemirror_mode": {
    "name": "ipython",
    "version": 3
   },
   "file_extension": ".py",
   "mimetype": "text/x-python",
   "name": "python",
   "nbconvert_exporter": "python",
   "pygments_lexer": "ipython3",
   "version": "3.12.7"
  }
 },
 "nbformat": 4,
 "nbformat_minor": 5
}
